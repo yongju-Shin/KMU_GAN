{
 "cells": [
  {
   "cell_type": "code",
   "execution_count": null,
   "metadata": {
    "_cell_guid": "b1076dfc-b9ad-4769-8c92-a6c4dae69d19",
    "_kg_hide-input": true,
    "_kg_hide-output": true,
    "_uuid": "8f2839f25d086af736a60e9eeb907d3b93b6e0e5"
   },
   "outputs": [],
   "source": [
    "!pip install git+https://github.com/openai/CLIP.git\n",
    "!pip install gdown "
   ]
  },
  {
   "cell_type": "code",
   "execution_count": null,
   "metadata": {},
   "outputs": [],
   "source": [
    "!git clone https://github.com/orpatashnik/StyleCLIP.git\n",
    "%cd StyleCLIP"
   ]
  },
  {
   "cell_type": "code",
   "execution_count": null,
   "metadata": {},
   "outputs": [],
   "source": [
    "!gdown --id 1EM87UquaoQmk17Q8d5kYIAHqu0dkYqdT"
   ]
  },
  {
   "cell_type": "code",
   "execution_count": null,
   "metadata": {},
   "outputs": [],
   "source": [
    "!gdown --id 1N0MZSqPRJpLfP4mFQCS14ikrVSe8vQlL"
   ]
  },
  {
   "cell_type": "code",
   "execution_count": null,
   "metadata": {
    "tags": []
   },
   "outputs": [],
   "source": [
    "args = {\n",
    "    \"description\": 'A person with blue hair',\n",
    "    \"ckpt\": \"stylegan2-ffhq-config-f.pt\",\n",
    "    \"stylegan_size\": 1024,\n",
    "    \"lr_rampup\": 0.05,\n",
    "    \"lr\": 0.1,\n",
    "    \"step\": 200,\n",
    "    \"mode\": 'edit',\n",
    "    \"l2_lambda\": 0.008,\n",
    "    \"id_lambda\": 0.005,\n",
    "    'work_in_stylespace': False,\n",
    "    \"latent_path\": None,\n",
    "    \"truncation\": 0.7,\n",
    "    \"save_intermediate_image_every\": 20,\n",
    "    \"results_dir\": \"results\",\n",
    "    \"ir_se50_weights\": \"model_ir_se50.pth\"\n",
    "}\n",
    "\n"
   ]
  },
  {
   "cell_type": "code",
   "execution_count": null,
   "metadata": {},
   "outputs": [],
   "source": [
    "from optimization.run_optimization import main\n",
    "from argparse import Namespace\n",
    "import torch\n",
    "torch.manual_seed(1)\n",
    "result = main(Namespace(**args))\n",
    "\n"
   ]
  },
  {
   "cell_type": "code",
   "execution_count": null,
   "metadata": {},
   "outputs": [],
   "source": [
    "from torchvision.utils import make_grid\n",
    "from torchvision.transforms import ToPILImage\n",
    "result_image = ToPILImage()(make_grid(result.detach().cpu(), normalize=True, scale_each=True, range=(-1, 1), padding=10))\n",
    "h, w = result_image.size\n",
    "result_image.resize((h // 2, w // 2))"
   ]
  },
  {
   "cell_type": "code",
   "execution_count": null,
   "metadata": {},
   "outputs": [],
   "source": [
    "colors = ['red', 'gray', 'purple', 'blue', 'blonde']\n",
    "results = []\n",
    "for c in colors:\n",
    "    args['description'] = f'A person with {c} hair'\n",
    "    torch.manual_seed(1)\n",
    "    result = main(Namespace(**args))\n",
    "    results.append(result[1].detach().cpu())\n",
    "result_image = ToPILImage()(make_grid(results, normalize=True, scale_each=True, range=(-1, 1), padding=10))\n",
    "h, w = result_image.size\n",
    "result_image.resize((h // 2, w // 2))"
   ]
  }
 ],
 "metadata": {
  "kernelspec": {
   "display_name": "Python [conda env:paddle2]",
   "language": "python",
   "name": "conda-env-paddle2-py"
  },
  "language_info": {
   "codemirror_mode": {
    "name": "ipython",
    "version": 3
   },
   "file_extension": ".py",
   "mimetype": "text/x-python",
   "name": "python",
   "nbconvert_exporter": "python",
   "pygments_lexer": "ipython3",
   "version": "3.8.12"
  }
 },
 "nbformat": 4,
 "nbformat_minor": 4
}
