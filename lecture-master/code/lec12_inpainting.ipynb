{
 "cells": [
  {
   "cell_type": "markdown",
   "metadata": {},
   "source": [
    "## Kaggle notebook"
   ]
  },
  {
   "cell_type": "code",
   "execution_count": 1,
   "metadata": {
    "_cell_guid": "b1076dfc-b9ad-4769-8c92-a6c4dae69d19",
    "_uuid": "8f2839f25d086af736a60e9eeb907d3b93b6e0e5",
    "execution": {
     "iopub.execute_input": "2022-05-22T12:41:27.372422Z",
     "iopub.status.busy": "2022-05-22T12:41:27.371572Z",
     "iopub.status.idle": "2022-05-22T12:41:30.820289Z",
     "shell.execute_reply": "2022-05-22T12:41:30.819282Z",
     "shell.execute_reply.started": "2022-05-22T12:41:27.372287Z"
    }
   },
   "outputs": [],
   "source": [
    "print('\\n> Cloning the repo')\n",
    "!git clone https://github.com/saic-mdal/lama.git \n",
    "!ls -l lama"
   ]
  },
  {
   "cell_type": "code",
   "execution_count": 5,
   "metadata": {
    "execution": {
     "iopub.execute_input": "2022-05-22T12:45:30.120181Z",
     "iopub.status.busy": "2022-05-22T12:45:30.119866Z",
     "iopub.status.idle": "2022-05-22T12:46:32.010907Z",
     "shell.execute_reply": "2022-05-22T12:46:32.009654Z",
     "shell.execute_reply.started": "2022-05-22T12:45:30.120149Z"
    }
   },
   "outputs": [],
   "source": [
    "print('\\n> Install dependencies')\n",
    "!pip install torch==1.8.0 torchvision==0.9.0 torchaudio==0.8.0 torchtext==0.9\n",
    "!pip install pytorch-lightning==1.2.9\n",
    "!pip uninstall fairscale -y\n",
    "!pip install pyyaml\n",
    "!pip install hydra hydra-core webdataset\n",
    "!pip install wldhx.yadisk-direct"
   ]
  },
  {
   "cell_type": "code",
   "execution_count": 3,
   "metadata": {
    "execution": {
     "iopub.execute_input": "2022-05-22T12:44:07.453281Z",
     "iopub.status.busy": "2022-05-22T12:44:07.452944Z",
     "iopub.status.idle": "2022-05-22T12:44:31.683038Z",
     "shell.execute_reply": "2022-05-22T12:44:31.681651Z",
     "shell.execute_reply.started": "2022-05-22T12:44:07.453235Z"
    }
   },
   "outputs": [],
   "source": [
    "print('>fixing opencv')\n",
    "!pip list | grep headless\n",
    "!pip uninstall opencv-python-headless -y --quiet\n",
    "!pip install opencv-python-headless==4.1.2.30 --quiet\n",
    "!pip list | grep headless"
   ]
  },
  {
   "cell_type": "code",
   "execution_count": 4,
   "metadata": {
    "execution": {
     "iopub.execute_input": "2022-05-22T12:45:12.472203Z",
     "iopub.status.busy": "2022-05-22T12:45:12.471859Z",
     "iopub.status.idle": "2022-05-22T12:45:13.993848Z",
     "shell.execute_reply": "2022-05-22T12:45:13.992671Z",
     "shell.execute_reply.started": "2022-05-22T12:45:12.472168Z"
    }
   },
   "outputs": [],
   "source": [
    "print('\\n> Changing the dir to:')\n",
    "%cd lama\n",
    "!ls -l\n",
    "!export PYTHONPATH=/kaggle/working/lama"
   ]
  },
  {
   "cell_type": "code",
   "execution_count": 11,
   "metadata": {
    "execution": {
     "iopub.execute_input": "2022-05-22T12:51:06.584386Z",
     "iopub.status.busy": "2022-05-22T12:51:06.583892Z",
     "iopub.status.idle": "2022-05-22T12:51:13.806370Z",
     "shell.execute_reply": "2022-05-22T12:51:13.805148Z",
     "shell.execute_reply.started": "2022-05-22T12:51:06.584348Z"
    }
   },
   "outputs": [],
   "source": [
    "print('\\n> Download the model')\n",
    "!curl -L $(yadisk-direct https://disk.yandex.ru/d/ouP6l8VJ0HpMZg) -o big-lama.zip\n",
    "!ls -l \n",
    "print('\\n> Unzip downloaded model')\n",
    "!unzip -o big-lama.zip\n",
    "!ls -l "
   ]
  },
  {
   "cell_type": "code",
   "execution_count": 12,
   "metadata": {
    "execution": {
     "iopub.execute_input": "2022-05-22T12:51:37.247237Z",
     "iopub.status.busy": "2022-05-22T12:51:37.246916Z",
     "iopub.status.idle": "2022-05-22T12:51:55.895858Z",
     "shell.execute_reply": "2022-05-22T12:51:55.894808Z",
     "shell.execute_reply.started": "2022-05-22T12:51:37.247207Z"
    }
   },
   "outputs": [],
   "source": [
    "print(\"Prepare images and masks\")\n",
    "!curl -L $(yadisk-direct https://disk.yandex.ru/d/xKQJZeVRk5vLlQ) -o LaMa_test_images.zip\n",
    "!unzip -o LaMa_test_images.zip\n",
    "!ls -l"
   ]
  },
  {
   "cell_type": "code",
   "execution_count": 13,
   "metadata": {
    "execution": {
     "iopub.execute_input": "2022-05-22T12:52:10.848952Z",
     "iopub.status.busy": "2022-05-22T12:52:10.848609Z",
     "iopub.status.idle": "2022-05-22T12:53:01.892878Z",
     "shell.execute_reply": "2022-05-22T12:53:01.891467Z",
     "shell.execute_reply.started": "2022-05-22T12:52:10.848921Z"
    }
   },
   "outputs": [],
   "source": [
    "!PYTHONPATH=$PYTHONPATH:\"/kaggle/working/lama\"  python bin/predict.py model.path=/kaggle/working/lama/big-lama indir=/kaggle/working/lama/LaMa_test_images outdir=/kaggle/working/lama/output"
   ]
  },
  {
   "cell_type": "code",
   "execution_count": 18,
   "metadata": {
    "execution": {
     "iopub.execute_input": "2022-05-22T12:55:09.525350Z",
     "iopub.status.busy": "2022-05-22T12:55:09.524681Z",
     "iopub.status.idle": "2022-05-22T12:55:11.244822Z",
     "shell.execute_reply": "2022-05-22T12:55:11.243656Z",
     "shell.execute_reply.started": "2022-05-22T12:55:09.525315Z"
    }
   },
   "outputs": [],
   "source": [
    "from glob import glob\n",
    "from PIL import Image\n",
    "import IPython.display as ipd\n",
    "\n",
    "inputs = sorted(glob('LaMa_test_images/*'))\n",
    "outputs = sorted(glob('output/*.png'))\n",
    "\n",
    "from pathlib import Path\n",
    "\n",
    "print(len(inputs), len(outputs))\n",
    "display(inputs[:6])\n",
    "display(outputs[:6])\n",
    "display(Image.open(inputs[0]))\n",
    "display(Image.open(inputs[1]))\n",
    "display(Image.open(outputs[0]))"
   ]
  },
  {
   "cell_type": "code",
   "execution_count": 22,
   "metadata": {
    "execution": {
     "iopub.execute_input": "2022-05-22T12:57:43.986693Z",
     "iopub.status.busy": "2022-05-22T12:57:43.986227Z",
     "iopub.status.idle": "2022-05-22T12:57:43.994510Z",
     "shell.execute_reply": "2022-05-22T12:57:43.993308Z",
     "shell.execute_reply.started": "2022-05-22T12:57:43.986642Z"
    }
   },
   "outputs": [],
   "source": [
    "import random\n",
    "\n",
    "def make_input_path(ouput):\n",
    "    name = Path(output).name\n",
    "    mask = f'LaMa_test_images/{name}'\n",
    "    org = mask.replace('_mask.png', '.png')\n",
    "    return org, mask\n",
    "\n",
    "output = random.choice(outputs)\n",
    "print(output)\n",
    "org, mask = make_input_path(output)\n",
    "print(org)\n",
    "print(mask)"
   ]
  },
  {
   "cell_type": "code",
   "execution_count": 30,
   "metadata": {
    "execution": {
     "iopub.execute_input": "2022-05-22T13:02:16.098363Z",
     "iopub.status.busy": "2022-05-22T13:02:16.098068Z",
     "iopub.status.idle": "2022-05-22T13:02:17.379164Z",
     "shell.execute_reply": "2022-05-22T13:02:17.377883Z",
     "shell.execute_reply.started": "2022-05-22T13:02:16.098334Z"
    }
   },
   "outputs": [],
   "source": [
    "def show(mask, org, output):\n",
    "    from PIL import Image\n",
    "    import numpy as np\n",
    "    \n",
    "    def to_np(path):\n",
    "        img = Image.open(path)\n",
    "        w, h = img.size\n",
    "        im  = np.array(img)\n",
    "        im[:,:h//200,:] = [0,255,0]\n",
    "        return im\n",
    "\n",
    "    imgs = [to_np(e) for e in [mask, org, output]]\n",
    "    big_img = np.concatenate(imgs, axis=1)\n",
    "    big_img = Image.fromarray(big_img)\n",
    "    display(big_img)\n",
    "    \n",
    "show(mask, org, output)"
   ]
  },
  {
   "cell_type": "code",
   "execution_count": 35,
   "metadata": {
    "execution": {
     "iopub.execute_input": "2022-05-22T13:05:49.643920Z",
     "iopub.status.busy": "2022-05-22T13:05:49.643589Z",
     "iopub.status.idle": "2022-05-22T13:06:41.213540Z",
     "shell.execute_reply": "2022-05-22T13:06:41.212609Z",
     "shell.execute_reply.started": "2022-05-22T13:05:49.643891Z"
    }
   },
   "outputs": [],
   "source": [
    "for i, output in enumerate(outputs):\n",
    "    org, mask = make_input_path(output)\n",
    "    show(mask, org, output)\n",
    "    print(f'{i}/{len(outputs)}')\n",
    "    print(\"'Input any key except 'q'\")\n",
    "    ch = input()\n",
    "    if ch in ['q', 'Q', 'ㅂ']:\n",
    "        break\n",
    "    ipd.clear_output(wait=True)\n",
    "    "
   ]
  }
 ],
 "metadata": {
  "kernelspec": {
   "display_name": "Python 3 (ipykernel)",
   "language": "python",
   "name": "python3"
  },
  "language_info": {
   "codemirror_mode": {
    "name": "ipython",
    "version": 3
   },
   "file_extension": ".py",
   "mimetype": "text/x-python",
   "name": "python",
   "nbconvert_exporter": "python",
   "pygments_lexer": "ipython3",
   "version": "3.8.12"
  }
 },
 "nbformat": 4,
 "nbformat_minor": 4
}
