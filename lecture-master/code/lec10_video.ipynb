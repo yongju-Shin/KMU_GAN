{
 "cells": [
  {
   "cell_type": "code",
   "execution_count": null,
   "id": "43ac1a4c-4b79-4df7-9bf2-a2092d0ce586",
   "metadata": {},
   "outputs": [],
   "source": [
    "!git clone https://github.com/genclass2022/public.git"
   ]
  },
  {
   "cell_type": "code",
   "execution_count": null,
   "id": "d7459147-0273-463f-be0d-4f6bf1e0316c",
   "metadata": {},
   "outputs": [],
   "source": [
    "!pip install ffmpeg\n",
    "!pip install imageio-ffmpeg"
   ]
  },
  {
   "cell_type": "code",
   "execution_count": null,
   "id": "7dc1e75d-3d8e-4fcc-9022-1a2955a9d0d1",
   "metadata": {},
   "outputs": [],
   "source": [
    "import imageio\n",
    "frames = imageio.mimread('public/hw02/remastering.mp4', memtest=False)"
   ]
  },
  {
   "cell_type": "code",
   "execution_count": null,
   "id": "cfa4e240-8766-45f5-b1f7-cb9e9d80c648",
   "metadata": {},
   "outputs": [],
   "source": [
    "from PIL import Image\n",
    "\n",
    "def show(im):\n",
    "    display(Image.fromarray(im))\n",
    "    \n",
    "show(frames[123])"
   ]
  },
  {
   "cell_type": "code",
   "execution_count": null,
   "id": "55641aec-93d4-4717-b019-b4dd125793ba",
   "metadata": {},
   "outputs": [],
   "source": [
    "from tqdm.auto import tqdm\n",
    "\n",
    "h, w, c = frames[0].shape\n",
    "resized_frame = [e[:, 66:-32, :] for e in frames]\n",
    "show(resized_frame[123])"
   ]
  },
  {
   "cell_type": "code",
   "execution_count": null,
   "id": "022595a8-141c-4f0d-99e7-3360ae27780a",
   "metadata": {},
   "outputs": [],
   "source": [
    "def generate_mp4(out_name, images, kwargs):\n",
    "    writer = imageio.get_writer(out_name , **kwargs)\n",
    "    for image in images:\n",
    "        writer.append_data(image)\n",
    "    writer.close()\n",
    "\n",
    "generate_mp4('temp.mp4', resized_frame, {'fps':30})"
   ]
  },
  {
   "cell_type": "code",
   "execution_count": null,
   "id": "35f1c04a-cccf-49d8-8fba-a1a603424e11",
   "metadata": {},
   "outputs": [],
   "source": [
    "import IPython.display as ipd\n",
    "org = ipd.Video('public/hw02/remastering.mp4')\n",
    "re  = ipd.Video('temp.mp4')\n",
    "display(org)\n",
    "display(re)"
   ]
  },
  {
   "cell_type": "code",
   "execution_count": null,
   "id": "3b17a84d-aefc-4fe0-9e26-ce6a02ef5546",
   "metadata": {},
   "outputs": [],
   "source": []
  }
 ],
 "metadata": {
  "kernelspec": {
   "display_name": "Python [conda env:matting]",
   "language": "python",
   "name": "conda-env-matting-py"
  },
  "language_info": {
   "codemirror_mode": {
    "name": "ipython",
    "version": 3
   },
   "file_extension": ".py",
   "mimetype": "text/x-python",
   "name": "python",
   "nbconvert_exporter": "python",
   "pygments_lexer": "ipython3",
   "version": "3.8.12"
  }
 },
 "nbformat": 4,
 "nbformat_minor": 5
}
