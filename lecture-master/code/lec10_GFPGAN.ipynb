{
 "cells": [
  {
   "cell_type": "code",
   "execution_count": null,
   "id": "43ac1a4c-4b79-4df7-9bf2-a2092d0ce586",
   "metadata": {},
   "outputs": [],
   "source": [
    "!git clone https://github.com/TencentARC/GFPGAN.git\n",
    "!git clone https://github.com/genclass2022/public.git"
   ]
  },
  {
   "cell_type": "code",
   "execution_count": null,
   "id": "d7459147-0273-463f-be0d-4f6bf1e0316c",
   "metadata": {},
   "outputs": [],
   "source": [
    "!pip list | grep torch"
   ]
  },
  {
   "cell_type": "code",
   "execution_count": null,
   "id": "19111aad-1ad4-42e9-af59-ad4e62eb7c83",
   "metadata": {},
   "outputs": [],
   "source": [
    "!pip install basicsr\n",
    "!pip install facexlib\n",
    "!pip install realesrgan"
   ]
  },
  {
   "cell_type": "code",
   "execution_count": null,
   "id": "7fec8e0a-7e2b-48a0-8308-a1956d4c0e3d",
   "metadata": {},
   "outputs": [],
   "source": [
    "!wget -N https://github.com/TencentARC/GFPGAN/releases/download/v1.3.0/GFPGANv1.3.pth -P GFPGAN/experiments/pretrained_models"
   ]
  },
  {
   "cell_type": "code",
   "execution_count": null,
   "id": "7dc1e75d-3d8e-4fcc-9022-1a2955a9d0d1",
   "metadata": {},
   "outputs": [],
   "source": [
    "!ln -s GFPGAN/experiments ./experiments"
   ]
  },
  {
   "cell_type": "code",
   "execution_count": null,
   "id": "cfa4e240-8766-45f5-b1f7-cb9e9d80c648",
   "metadata": {},
   "outputs": [],
   "source": [
    "!rm -rf GFPGAN/results/*\n",
    "!python GFPGAN/inference_gfpgan.py -i public/lec10 -o GFPGAN/results -v 1.3 -s 4"
   ]
  },
  {
   "cell_type": "code",
   "execution_count": null,
   "id": "55641aec-93d4-4717-b019-b4dd125793ba",
   "metadata": {},
   "outputs": [],
   "source": [
    "from glob import glob\n",
    "import numpy as np\n",
    "from PIL import Image\n",
    "\n",
    "def pngs(root):\n",
    "    return sorted(glob(f'{root}/*.png'))\n",
    "\n",
    "def loads(paths, resize=1024):\n",
    "    def load_(p, sz=resize):\n",
    "        img = Image.open(p).convert('RGB').resize((sz,sz))\n",
    "        return np.array(img)\n",
    "    ims = np.concatenate(list(map(load_, paths)), axis=1)\n",
    "    return Image.fromarray(ims)"
   ]
  },
  {
   "cell_type": "code",
   "execution_count": null,
   "id": "a1711171-0622-419c-bb6f-02a4e2e3b737",
   "metadata": {},
   "outputs": [],
   "source": [
    "inputs = pngs('public/lec10')\n",
    "outs = pngs('GFPGAN/results/restored_imgs')\n",
    "\n",
    "for e in zip(inputs, outs):\n",
    "    display(loads(e))"
   ]
  },
  {
   "cell_type": "code",
   "execution_count": null,
   "id": "022595a8-141c-4f0d-99e7-3360ae27780a",
   "metadata": {},
   "outputs": [],
   "source": [
    "cropped_faces = pngs('GFPGAN/results/cropped_faces')\n",
    "restored_faces = pngs('GFPGAN/results/restored_faces')\n",
    "for e in zip(inputs, cropped_faces, restored_faces, outs):\n",
    "    display(loads(e))"
   ]
  }
 ],
 "metadata": {
  "kernelspec": {
   "display_name": "Python [conda env:matting]",
   "language": "python",
   "name": "conda-env-matting-py"
  },
  "language_info": {
   "codemirror_mode": {
    "name": "ipython",
    "version": 3
   },
   "file_extension": ".py",
   "mimetype": "text/x-python",
   "name": "python",
   "nbconvert_exporter": "python",
   "pygments_lexer": "ipython3",
   "version": "3.8.12"
  }
 },
 "nbformat": 4,
 "nbformat_minor": 5
}
