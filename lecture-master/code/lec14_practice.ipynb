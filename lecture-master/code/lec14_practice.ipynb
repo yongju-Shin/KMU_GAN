{
 "cells": [
  {
   "cell_type": "markdown",
   "id": "2656536a-e397-4da9-b2fc-4828f08d257e",
   "metadata": {},
   "source": [
    "---\n",
    "### callable class "
   ]
  },
  {
   "cell_type": "code",
   "execution_count": null,
   "id": "af2f862a-4af8-4297-b536-0233751e0881",
   "metadata": {},
   "outputs": [],
   "source": [
    "class MyAdd:\n",
    "    def __init__(self, a):\n",
    "        self.a = a\n",
    "        \n",
    "    def __call__(self, b):\n",
    "        print('echo:', self.a + b)\n",
    "        \n",
    "m = MyAdd(2)\n",
    "m(3)"
   ]
  },
  {
   "cell_type": "markdown",
   "id": "20e7d66c-aad6-4732-9693-bee4feec26a9",
   "metadata": {},
   "source": [
    "---\n",
    "### 클로저"
   ]
  },
  {
   "cell_type": "code",
   "execution_count": null,
   "id": "662911a8-6a62-4935-9a39-e45fea6524a6",
   "metadata": {},
   "outputs": [],
   "source": [
    "# avg(10) == 10\n",
    "# avg(11) == 10.5 \n",
    "# avg(12) == 11 "
   ]
  },
  {
   "cell_type": "code",
   "execution_count": null,
   "id": "cd1e4959-01f2-4b78-8b81-94b47503c18d",
   "metadata": {},
   "outputs": [],
   "source": [
    "import numpy as np\n",
    "\n",
    "class Avg:\n",
    "    def __init__(self):\n",
    "        self.xs = []\n",
    "        \n",
    "    def __call__(self, x):\n",
    "        self.xs.append(x)\n",
    "        return np.mean(x)\n",
    "    \n",
    "avg = Avg()\n",
    "avg(10), avg(11), avg(12)"
   ]
  },
  {
   "cell_type": "code",
   "execution_count": null,
   "id": "b2e27b87-401f-4d5f-9247-518e091a20b2",
   "metadata": {},
   "outputs": [],
   "source": [
    "def make_avg():\n",
    "    xs = []\n",
    "    \n",
    "    def avg_(x):\n",
    "        xs.append(x)\n",
    "        return np.mean(xs) \n",
    "    \n",
    "    return avg_\n",
    "    \n",
    "avg = make_avg()\n",
    "avg(10), avg(11), avg(12)"
   ]
  },
  {
   "cell_type": "markdown",
   "id": "f840661b-819e-4347-b7e2-19cadf207fa3",
   "metadata": {},
   "source": [
    "---\n",
    "### 데코레이터"
   ]
  },
  {
   "cell_type": "code",
   "execution_count": null,
   "id": "7c0fb0d7-4729-4cf9-b4a8-818d5375cf2e",
   "metadata": {},
   "outputs": [],
   "source": [
    "def log(func):\n",
    "    def log_func(*args):\n",
    "        print(f'log: start {func.__name__}')\n",
    "        func(*args)\n",
    "        print(f'log: end {func.__name__}')\n",
    "        \n",
    "    return log_func\n",
    "    \n",
    "def my_sum(a, b):\n",
    "    print(f'{a} + {b} = {a+b}')\n",
    "\n",
    "log_sum = log(my_sum)\n",
    "log_sum(3, 4)"
   ]
  },
  {
   "cell_type": "code",
   "execution_count": null,
   "id": "ade7146d-6e2c-4f2b-ad11-f8bc4d8bd719",
   "metadata": {},
   "outputs": [],
   "source": [
    "@log\n",
    "def my_mul(a, b):\n",
    "    print(f'{a} x {b} = {a * b}')\n",
    "    \n",
    "my_mul(3, 4)"
   ]
  },
  {
   "cell_type": "markdown",
   "id": "f147ddb6-6856-4f18-ba64-d20792d7d38f",
   "metadata": {},
   "source": [
    "---"
   ]
  },
  {
   "cell_type": "code",
   "execution_count": null,
   "id": "c408cf48-1a75-4b6d-9baa-a7eecd67f797",
   "metadata": {},
   "outputs": [],
   "source": [
    "registers = []\n",
    "def register(func):\n",
    "    registers.append(func)"
   ]
  },
  {
   "cell_type": "code",
   "execution_count": null,
   "id": "02db3948-cd30-4f43-8adb-6173cce30cad",
   "metadata": {},
   "outputs": [],
   "source": [
    "@register\n",
    "def my_sum(a, b):\n",
    "    print(f'{a} + {b} = {a+b}')\n",
    "    \n",
    "@register \n",
    "def my_mul(a, b):\n",
    "    print(f'{a} x {b} = {a * b}')\n",
    "\n",
    "@register\n",
    "def my_sub(a, b):\n",
    "    print(f'{a} - {b} = {a - b}')"
   ]
  },
  {
   "cell_type": "code",
   "execution_count": null,
   "id": "95e86652-ae3e-46f6-940e-196dec9ff434",
   "metadata": {},
   "outputs": [],
   "source": [
    "for op in registers:\n",
    "    op(3,4)"
   ]
  },
  {
   "cell_type": "code",
   "execution_count": null,
   "id": "0bb94254-a52e-44fc-9aea-7000b6c6ebca",
   "metadata": {},
   "outputs": [],
   "source": []
  }
 ],
 "metadata": {
  "kernelspec": {
   "display_name": "Python [conda env:paddle2]",
   "language": "python",
   "name": "conda-env-paddle2-py"
  },
  "language_info": {
   "codemirror_mode": {
    "name": "ipython",
    "version": 3
   },
   "file_extension": ".py",
   "mimetype": "text/x-python",
   "name": "python",
   "nbconvert_exporter": "python",
   "pygments_lexer": "ipython3",
   "version": "3.8.12"
  }
 },
 "nbformat": 4,
 "nbformat_minor": 5
}
