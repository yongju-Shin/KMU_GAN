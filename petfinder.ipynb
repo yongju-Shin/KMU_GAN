{
 "cells": [
  {
   "cell_type": "code",
   "execution_count": 1,
   "id": "0bbbbe4d",
   "metadata": {
    "_cell_guid": "b1076dfc-b9ad-4769-8c92-a6c4dae69d19",
    "_uuid": "8f2839f25d086af736a60e9eeb907d3b93b6e0e5",
    "execution": {
     "iopub.execute_input": "2021-11-07T12:51:03.219912Z",
     "iopub.status.busy": "2021-11-07T12:51:03.218384Z",
     "iopub.status.idle": "2021-11-07T12:51:03.300375Z",
     "shell.execute_reply": "2021-11-07T12:51:03.300906Z",
     "shell.execute_reply.started": "2021-09-25T12:33:15.142491Z"
    },
    "papermill": {
     "duration": 0.095107,
     "end_time": "2021-11-07T12:51:03.301193",
     "exception": false,
     "start_time": "2021-11-07T12:51:03.206086",
     "status": "completed"
    },
    "tags": []
   },
   "outputs": [],
   "source": [
    "import sys\n",
    "sys.path.append(\"../input/tez-lib/\")\n",
    "sys.path.append(\"../input/timmmaster/\")"
   ]
  },
  {
   "cell_type": "code",
   "execution_count": 2,
   "id": "f3c5c294",
   "metadata": {
    "execution": {
     "iopub.execute_input": "2021-11-07T12:51:03.320419Z",
     "iopub.status.busy": "2021-11-07T12:51:03.319913Z",
     "iopub.status.idle": "2021-11-07T12:51:11.462287Z",
     "shell.execute_reply": "2021-11-07T12:51:11.462825Z",
     "shell.execute_reply.started": "2021-09-25T12:33:22.34974Z"
    },
    "papermill": {
     "duration": 8.153932,
     "end_time": "2021-11-07T12:51:11.462992",
     "exception": false,
     "start_time": "2021-11-07T12:51:03.309060",
     "status": "completed"
    },
    "tags": []
   },
   "outputs": [],
   "source": [
    "import tez\n",
    "import albumentations\n",
    "import pandas as pd\n",
    "import cv2\n",
    "import numpy as np\n",
    "import timm\n",
    "import torch.nn as nn\n",
    "from sklearn import metrics\n",
    "import torch\n",
    "from tez.callbacks import EarlyStopping\n",
    "from tqdm import tqdm"
   ]
  },
  {
   "cell_type": "code",
   "execution_count": 3,
   "id": "c7450206",
   "metadata": {
    "execution": {
     "iopub.execute_input": "2021-11-07T12:51:11.481127Z",
     "iopub.status.busy": "2021-11-07T12:51:11.480374Z",
     "iopub.status.idle": "2021-11-07T12:51:11.482942Z",
     "shell.execute_reply": "2021-11-07T12:51:11.482419Z",
     "shell.execute_reply.started": "2021-09-25T12:33:38.488183Z"
    },
    "papermill": {
     "duration": 0.012809,
     "end_time": "2021-11-07T12:51:11.483043",
     "exception": false,
     "start_time": "2021-11-07T12:51:11.470234",
     "status": "completed"
    },
    "tags": []
   },
   "outputs": [],
   "source": [
    "class args:\n",
    "    batch_size = 64\n",
    "    image_size = 512"
   ]
  },
  {
   "cell_type": "code",
   "execution_count": 4,
   "id": "86038d42",
   "metadata": {
    "execution": {
     "iopub.execute_input": "2021-11-07T12:51:11.504153Z",
     "iopub.status.busy": "2021-11-07T12:51:11.503610Z",
     "iopub.status.idle": "2021-11-07T12:51:11.505898Z",
     "shell.execute_reply": "2021-11-07T12:51:11.506259Z",
     "shell.execute_reply.started": "2021-09-25T12:33:39.65718Z"
    },
    "papermill": {
     "duration": 0.016626,
     "end_time": "2021-11-07T12:51:11.506370",
     "exception": false,
     "start_time": "2021-11-07T12:51:11.489744",
     "status": "completed"
    },
    "tags": []
   },
   "outputs": [],
   "source": [
    "class PawpularDataset:\n",
    "    def __init__(self, image_paths, dense_features, targets, augmentations):\n",
    "        self.image_paths = image_paths\n",
    "        self.dense_features = dense_features\n",
    "        self.targets = targets\n",
    "        self.augmentations = augmentations\n",
    "        \n",
    "    def __len__(self):\n",
    "        return len(self.image_paths)\n",
    "    \n",
    "    def __getitem__(self, item):\n",
    "        image = cv2.imread(self.image_paths[item])\n",
    "        image = cv2.cvtColor(image, cv2.COLOR_BGR2RGB)\n",
    "        \n",
    "        if self.augmentations is not None:\n",
    "            augmented = self.augmentations(image=image)\n",
    "            image = augmented[\"image\"]\n",
    "            \n",
    "        image = np.transpose(image, (2, 0, 1)).astype(np.float32)\n",
    "        \n",
    "        features = self.dense_features[item, :]\n",
    "        targets = self.targets[item]\n",
    "        \n",
    "        return {\n",
    "            \"image\": torch.tensor(image, dtype=torch.float),\n",
    "            \"features\": torch.tensor(features, dtype=torch.float),\n",
    "            \"targets\": torch.tensor(targets, dtype=torch.float),\n",
    "        }"
   ]
  },
  {
   "cell_type": "code",
   "execution_count": 5,
   "id": "608ae1db",
   "metadata": {
    "execution": {
     "iopub.execute_input": "2021-11-07T12:51:11.526604Z",
     "iopub.status.busy": "2021-11-07T12:51:11.525886Z",
     "iopub.status.idle": "2021-11-07T12:51:11.528313Z",
     "shell.execute_reply": "2021-11-07T12:51:11.527936Z",
     "shell.execute_reply.started": "2021-09-25T12:33:56.441243Z"
    },
    "papermill": {
     "duration": 0.015381,
     "end_time": "2021-11-07T12:51:11.528408",
     "exception": false,
     "start_time": "2021-11-07T12:51:11.513027",
     "status": "completed"
    },
    "tags": []
   },
   "outputs": [],
   "source": [
    "class PawpularModel(tez.Model):\n",
    "    def __init__(self, model_name):\n",
    "        super().__init__()\n",
    "\n",
    "        self.model = timm.create_model(model_name, pretrained=False, in_chans=3)\n",
    "        self.model.classifier = nn.Linear(self.model.classifier.in_features, 128)\n",
    "        self.dropout = nn.Dropout(0.1)\n",
    "        self.dense1 = nn.Linear(140, 64)\n",
    "        self.dense2 = nn.Linear(64, 1)\n",
    "\n",
    "    def forward(self, image, features, targets=None):\n",
    "\n",
    "        x = self.model(image)\n",
    "        x = self.dropout(x)\n",
    "        x = torch.cat([x, features], dim=1)\n",
    "        x = self.dense1(x)\n",
    "        x = torch.relu(x)\n",
    "        x = self.dense2(x)\n",
    "        return x, 0, {}"
   ]
  },
  {
   "cell_type": "code",
   "execution_count": 6,
   "id": "fb75bb4d",
   "metadata": {
    "execution": {
     "iopub.execute_input": "2021-11-07T12:51:11.546290Z",
     "iopub.status.busy": "2021-11-07T12:51:11.545658Z",
     "iopub.status.idle": "2021-11-07T12:51:11.548202Z",
     "shell.execute_reply": "2021-11-07T12:51:11.547809Z",
     "shell.execute_reply.started": "2021-09-25T12:33:56.959707Z"
    },
    "papermill": {
     "duration": 0.01331,
     "end_time": "2021-11-07T12:51:11.548298",
     "exception": false,
     "start_time": "2021-11-07T12:51:11.534988",
     "status": "completed"
    },
    "tags": []
   },
   "outputs": [],
   "source": [
    "test_aug = albumentations.Compose(\n",
    "    [\n",
    "        albumentations.Resize(args.image_size, args.image_size, p=1),\n",
    "        albumentations.Normalize(\n",
    "            mean=[0.485, 0.456, 0.406],\n",
    "            std=[0.229, 0.224, 0.225],\n",
    "            max_pixel_value=255.0,\n",
    "            p=1.0,\n",
    "        ),\n",
    "    ],\n",
    "    p=1.0,\n",
    ")"
   ]
  },
  {
   "cell_type": "code",
   "execution_count": 7,
   "id": "1afd36f2",
   "metadata": {
    "execution": {
     "iopub.execute_input": "2021-11-07T12:51:11.571574Z",
     "iopub.status.busy": "2021-11-07T12:51:11.570956Z",
     "iopub.status.idle": "2021-11-07T12:51:25.649381Z",
     "shell.execute_reply": "2021-11-07T12:51:25.648789Z"
    },
    "papermill": {
     "duration": 14.094629,
     "end_time": "2021-11-07T12:51:25.649561",
     "exception": false,
     "start_time": "2021-11-07T12:51:11.554932",
     "status": "completed"
    },
    "tags": []
   },
   "outputs": [
    {
     "name": "stderr",
     "output_type": "stream",
     "text": [
      "0it [00:00, ?it/s]\n",
      "1it [00:00,  2.31it/s]\n",
      "  0%|          | 0/1 [00:00<?, ?it/s, stage=test]\u001b[A\n",
      "100%|██████████| 1/1 [00:00<00:00,  2.11it/s, stage=test]\n",
      "1it [00:00,  2.05it/s]\n",
      "0it [00:00, ?it/s]\n",
      "1it [00:00,  4.95it/s]\n",
      "  0%|          | 0/1 [00:00<?, ?it/s, stage=test]\u001b[A\n",
      "100%|██████████| 1/1 [00:00<00:00,  4.12it/s, stage=test]\n",
      "1it [00:00,  3.94it/s]\n",
      "0it [00:00, ?it/s]\n",
      "1it [00:00,  4.76it/s]\n",
      "  0%|          | 0/1 [00:00<?, ?it/s, stage=test]\u001b[A\n",
      "100%|██████████| 1/1 [00:00<00:00,  4.07it/s, stage=test]\n",
      "1it [00:00,  3.84it/s]\n",
      "0it [00:00, ?it/s]\n",
      "1it [00:00,  4.78it/s]\n",
      "  0%|          | 0/1 [00:00<?, ?it/s, stage=test]\u001b[A\n",
      "100%|██████████| 1/1 [00:00<00:00,  4.04it/s, stage=test]\n",
      "1it [00:00,  3.85it/s]\n",
      "0it [00:00, ?it/s]\n",
      "1it [00:00,  3.81it/s]\n",
      "  0%|          | 0/1 [00:00<?, ?it/s, stage=test]\u001b[A\n",
      "100%|██████████| 1/1 [00:00<00:00,  3.03it/s, stage=test]\n",
      "1it [00:00,  2.90it/s]\n",
      "0it [00:00, ?it/s]\n",
      "1it [00:00,  4.90it/s]\n",
      "  0%|          | 0/1 [00:00<?, ?it/s, stage=test]\u001b[A\n",
      "100%|██████████| 1/1 [00:00<00:00,  4.07it/s, stage=test]\n",
      "1it [00:00,  3.92it/s]\n",
      "0it [00:00, ?it/s]\n",
      "1it [00:00,  4.95it/s]\n",
      "  0%|          | 0/1 [00:00<?, ?it/s, stage=test]\u001b[A\n",
      "100%|██████████| 1/1 [00:00<00:00,  4.12it/s, stage=test]\n",
      "1it [00:00,  3.96it/s]\n",
      "0it [00:00, ?it/s]\n",
      "1it [00:00,  4.90it/s]\n",
      "  0%|          | 0/1 [00:00<?, ?it/s, stage=test]\u001b[A\n",
      "100%|██████████| 1/1 [00:00<00:00,  4.09it/s, stage=test]\n",
      "1it [00:00,  3.90it/s]\n",
      "0it [00:00, ?it/s]\n",
      "1it [00:00,  4.86it/s]\n",
      "  0%|          | 0/1 [00:00<?, ?it/s, stage=test]\u001b[A\n",
      "100%|██████████| 1/1 [00:00<00:00,  4.09it/s, stage=test]\n",
      "1it [00:00,  3.90it/s]\n",
      "0it [00:00, ?it/s]\n",
      "1it [00:00,  4.93it/s]\n",
      "  0%|          | 0/1 [00:00<?, ?it/s, stage=test]\u001b[A\n",
      "100%|██████████| 1/1 [00:00<00:00,  4.08it/s, stage=test]\n",
      "1it [00:00,  3.91it/s]\n"
     ]
    }
   ],
   "source": [
    "super_final_predictions = []\n",
    "\n",
    "for fold_ in range(10):\n",
    "    model = PawpularModel(model_name=\"tf_efficientnet_b0_ns\")\n",
    "    model.load(f\"../input/pawpular-models/model_f{fold_}.bin\", device=\"cuda\", weights_only=True)\n",
    "\n",
    "    df_test = pd.read_csv(\"../input/petfinder-pawpularity-score/test.csv\")\n",
    "    test_img_paths = [f\"../input/petfinder-pawpularity-score/test/{x}.jpg\" for x in df_test[\"Id\"].values]\n",
    "\n",
    "    dense_features = [\n",
    "        'Subject Focus', 'Eyes', 'Face', 'Near', 'Action', 'Accessory',\n",
    "        'Group', 'Collage', 'Human', 'Occlusion', 'Info', 'Blur'\n",
    "    ]\n",
    "\n",
    "    test_dataset = PawpularDataset(\n",
    "        image_paths=test_img_paths,\n",
    "        dense_features=df_test[dense_features].values,\n",
    "        targets=np.ones(len(test_img_paths)),\n",
    "        augmentations=test_aug,\n",
    "    )\n",
    "    test_predictions = model.predict(test_dataset, batch_size=2*args.batch_size, n_jobs=-1)\n",
    "\n",
    "    final_test_predictions = []\n",
    "    for preds in tqdm(test_predictions):\n",
    "        final_test_predictions.extend(preds.ravel().tolist())\n",
    "    \n",
    "    super_final_predictions.append(final_test_predictions)\n",
    "\n",
    "super_final_predictions = np.mean(np.column_stack(super_final_predictions), axis=1)\n",
    "df_test[\"Pawpularity\"] = super_final_predictions\n",
    "df_test = df_test[[\"Id\", \"Pawpularity\"]]\n",
    "df_test.to_csv(\"submission.csv\", index=False)"
   ]
  },
  {
   "cell_type": "code",
   "execution_count": 8,
   "id": "f13bacd9",
   "metadata": {
    "execution": {
     "iopub.execute_input": "2021-11-07T12:51:25.743129Z",
     "iopub.status.busy": "2021-11-07T12:51:25.742590Z",
     "iopub.status.idle": "2021-11-07T12:51:25.757946Z",
     "shell.execute_reply": "2021-11-07T12:51:25.757208Z"
    },
    "papermill": {
     "duration": 0.065336,
     "end_time": "2021-11-07T12:51:25.758065",
     "exception": false,
     "start_time": "2021-11-07T12:51:25.692729",
     "status": "completed"
    },
    "tags": []
   },
   "outputs": [
    {
     "data": {
      "text/html": [
       "<div>\n",
       "<style scoped>\n",
       "    .dataframe tbody tr th:only-of-type {\n",
       "        vertical-align: middle;\n",
       "    }\n",
       "\n",
       "    .dataframe tbody tr th {\n",
       "        vertical-align: top;\n",
       "    }\n",
       "\n",
       "    .dataframe thead th {\n",
       "        text-align: right;\n",
       "    }\n",
       "</style>\n",
       "<table border=\"1\" class=\"dataframe\">\n",
       "  <thead>\n",
       "    <tr style=\"text-align: right;\">\n",
       "      <th></th>\n",
       "      <th>Id</th>\n",
       "      <th>Pawpularity</th>\n",
       "    </tr>\n",
       "  </thead>\n",
       "  <tbody>\n",
       "    <tr>\n",
       "      <th>0</th>\n",
       "      <td>4128bae22183829d2b5fea10effdb0c3</td>\n",
       "      <td>26.584988</td>\n",
       "    </tr>\n",
       "    <tr>\n",
       "      <th>1</th>\n",
       "      <td>43a2262d7738e3d420d453815151079e</td>\n",
       "      <td>26.272234</td>\n",
       "    </tr>\n",
       "    <tr>\n",
       "      <th>2</th>\n",
       "      <td>4e429cead1848a298432a0acad014c9d</td>\n",
       "      <td>26.212132</td>\n",
       "    </tr>\n",
       "    <tr>\n",
       "      <th>3</th>\n",
       "      <td>80bc3ccafcc51b66303c2c263aa38486</td>\n",
       "      <td>26.346893</td>\n",
       "    </tr>\n",
       "    <tr>\n",
       "      <th>4</th>\n",
       "      <td>8f49844c382931444e68dffbe20228f4</td>\n",
       "      <td>27.803177</td>\n",
       "    </tr>\n",
       "  </tbody>\n",
       "</table>\n",
       "</div>"
      ],
      "text/plain": [
       "                                 Id  Pawpularity\n",
       "0  4128bae22183829d2b5fea10effdb0c3    26.584988\n",
       "1  43a2262d7738e3d420d453815151079e    26.272234\n",
       "2  4e429cead1848a298432a0acad014c9d    26.212132\n",
       "3  80bc3ccafcc51b66303c2c263aa38486    26.346893\n",
       "4  8f49844c382931444e68dffbe20228f4    27.803177"
      ]
     },
     "execution_count": 8,
     "metadata": {},
     "output_type": "execute_result"
    }
   ],
   "source": [
    "df_test.head()"
   ]
  },
  {
   "cell_type": "code",
   "execution_count": null,
   "id": "21cc2a88",
   "metadata": {
    "papermill": {
     "duration": 0.042662,
     "end_time": "2021-11-07T12:51:25.846897",
     "exception": false,
     "start_time": "2021-11-07T12:51:25.804235",
     "status": "completed"
    },
    "tags": []
   },
   "outputs": [],
   "source": []
  }
 ],
 "metadata": {
  "kernelspec": {
   "display_name": "Python 3",
   "language": "python",
   "name": "python3"
  },
  "language_info": {
   "codemirror_mode": {
    "name": "ipython",
    "version": 3
   },
   "file_extension": ".py",
   "mimetype": "text/x-python",
   "name": "python",
   "nbconvert_exporter": "python",
   "pygments_lexer": "ipython3",
   "version": "3.7.10"
  },
  "papermill": {
   "default_parameters": {},
   "duration": 30.619367,
   "end_time": "2021-11-07T12:51:27.237620",
   "environment_variables": {},
   "exception": null,
   "input_path": "__notebook__.ipynb",
   "output_path": "__notebook__.ipynb",
   "parameters": {},
   "start_time": "2021-11-07T12:50:56.618253",
   "version": "2.3.3"
  }
 },
 "nbformat": 4,
 "nbformat_minor": 5
}
